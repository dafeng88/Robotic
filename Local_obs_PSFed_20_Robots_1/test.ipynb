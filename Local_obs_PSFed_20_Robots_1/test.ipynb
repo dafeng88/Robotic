{
 "cells": [
  {
   "cell_type": "code",
   "id": "initial_id",
   "metadata": {
    "collapsed": true,
    "jupyter": {
     "is_executing": true
    }
   },
   "source": [
    "import os\n",
    "import tensorflow as tf\n",
    "import numpy as np\n",
    "# from tensorflow.initializers import random_uniform\n",
    "# class Actor(object):\n",
    "#     def __init__(self, lr, n_actions, name, input_dims, sess, fc1_dims,\n",
    "#                  fc2_dims, action_bound, batch_size=64, chkpt_dir='tmp/ddpg'):\n",
    "#         self.lr = lr\n",
    "#         self.n_actions = n_actions\n",
    "#         self.name = name\n",
    "#         self.fc1_dims = fc1_dims\n",
    "#         self.fc2_dims = fc2_dims\n",
    "#         self.input_dims = input_dims\n",
    "#         self.batch_size = batch_size\n",
    "#         self.sess = sess\n",
    "#         self.action_bound = action_bound\n",
    "#         self.build_network()\n",
    "#         self.params = tf.trainable_variables(scope=self.name)\n",
    "#         self.unnormalized_actor_gradients = tf.gradients(self.mu, self.params, -self.action_gradients)\n",
    "#         self.actor_gradients = list(map(lambda x: tf.div(x, self.batch_size), self.unnormalized_actor_gradients))\n",
    "#         self.optimize = tf.train.AdamOptimizer(self.lr).apply_gradients(zip(self.actor_gradients, self.params))\n",
    "# \n",
    "#     def build_network(self):\n",
    "#         with tf.variable_scope(self.name):\n",
    "#             self.input = tf.placeholder(tf.float32, shape=[None, *self.input_dims], name='inputs')\n",
    "#             self.action_gradients = tf.placeholder(tf.float32, shape=[None, self.n_actions], name='gradients')\n",
    "#             f1 = 1. / np.sqrt(self.fc1_dims)\n",
    "#             dense1 = tf.layers.dense(self.input, units=self.fc1_dims, kernel_initializer=random_uniform(-f1, f1), bias_initializer=random_uniform(-f1, f1))\n",
    "#             batch1 = tf.layers.batch_normalization(dense1)\n",
    "#             layer1_activation = tf.nn.tanh(batch1)\n",
    "#             f2 = 1. / np.sqrt(self.fc2_dims)\n",
    "#             dense2 = tf.layers.dense(layer1_activation, units=self.fc2_dims, kernel_initializer=random_uniform(-f2, f2), bias_initializer=random_uniform(-f2, f2))\n",
    "#             batch2 = tf.layers.batch_normalization(dense2)\n",
    "#             layer2_activation = tf.nn.tanh(batch2)\n",
    "#             f3 = 1. / np.sqrt(self.fc2_dims)\n",
    "#             dense3 = tf.layers.dense(layer2_activation, units=32, kernel_initializer=random_uniform(-f3, f3), bias_initializer=random_uniform(-f3, f3))\n",
    "#             batch3 = tf.layers.batch_normalization(dense3)\n",
    "#             layer3_activation = tf.nn.tanh(batch3)\n",
    "#             mu1 = tf.layers.dense(layer3_activation, units=self.n_actions, activation='tanh', kernel_initializer=random_uniform(-f3, f3), bias_initializer=random_uniform(-f3, f3))\n",
    "#             self.mu = mu1\n",
    "# \n",
    "#     def predict(self, inputs):\n",
    "#         return self.sess.run(self.mu, feed_dict={self.input: inputs})\n",
    "# \n",
    "#     def train(self, inputs, gradients):\n",
    "#         self.sess.run(self.optimize, feed_dict={self.input: inputs, self.action_gradients: gradients})\n",
    "# class Federated_Server(object):\n",
    "#     def __init__(self, name_actor, name_critic, input_dims, n_actions=7, layer1_size=32, layer2_size=32):\n",
    "#         self.sess = tf.Session()\n",
    "#         self.actor = Actor(1, n_actions, name_actor, input_dims, self.sess, layer1_size, layer2_size, 1)\n",
    "#         self.numberOfR=20\n",
    "#         self.actors_params= [self.actor.params] *self.numberOfR\n",
    "#         self.robot_sents=np.zeros(self.numberOfR)\n",
    "#         self.sess.run(tf.global_variables_initializer())\n",
    "# \n",
    "#     def federation(self):\n",
    "#         for i in range(len(self.actor.params)):\n",
    "#            for j in range(self.numberOfR):\n",
    "#                self.actor.params[i]+=self.actors_params[j][i]*self.robot_sents[j]\n",
    "#            self.actor.params[i]/=self.numberOfR\n",
    "# \n",
    "#         #self.actor.sess.run(self.ServerFederation)\n",
    "#         return self.actor.params\n",
    "# Server_robot = Federated_Server(name_actor='server_actor', name_critic='server_critic', input_dims=[148], n_actions=8,\n",
    "#                                 layer1_size=32, layer2_size=32)\n",
    "# print(\"q\")\n",
    "# print(Server_robot.actor.params)\n",
    "# Server_robot.federation()\n",
    "# print(\"2\")\n",
    "# print(Server_robot.actor.params)"
   ],
   "outputs": [],
   "execution_count": null
  },
  {
   "metadata": {
    "ExecuteTime": {
     "end_time": "2024-12-13T09:44:03.590660Z",
     "start_time": "2024-12-13T09:44:03.386906Z"
    }
   },
   "cell_type": "code",
   "source": [
    "import numpy as np\n",
    "numberOfRobots=5\n",
    "act_robots = np.zeros((numberOfRobots,8))\n",
    "for y in range(numberOfRobots):\n",
    "    act_robots[y] = np.random.uniform(-1.0, 1.0), np.random.uniform(-1.0, 1.0), np.random.uniform(\n",
    "        -1.0, 1.0), np.random.uniform(-1.0, 1.0), np.random.uniform(-1.0,\n",
    "                                                                    1.0), np.random.uniform(\n",
    "        -1.0, 1.0), np.random.uniform(-1.0, 1.0), np.random.uniform(-1.0, 1.0)\n",
    "act_robots = np.concatenate(act_robots)\n",
    "print(act_robots)"
   ],
   "id": "db5778f096993448",
   "outputs": [
    {
     "name": "stdout",
     "output_type": "stream",
     "text": [
      "[-0.11156308  0.74892284 -0.81553801  0.24693588  0.76302667 -0.30550462\n",
      "  0.8782377   0.86462135  0.23770281  0.59782766  0.35387384 -0.44192768\n",
      " -0.13054147  0.47855172 -0.22625869 -0.72311182  0.48399861  0.36295145\n",
      "  0.89999694  0.79987777 -0.19261176  0.55560777 -0.73232402  0.52122303\n",
      "  0.69627691  0.40444026  0.72488664 -0.41562713 -0.9916299  -0.92481465\n",
      " -0.71421492 -0.31257925  0.39277498  0.66189674 -0.01913698 -0.51324932\n",
      "  0.3767292   0.76040169 -0.9186138   0.78119296]\n"
     ]
    }
   ],
   "execution_count": 1
  }
 ],
 "metadata": {
  "kernelspec": {
   "display_name": "Python 3",
   "language": "python",
   "name": "python3"
  },
  "language_info": {
   "codemirror_mode": {
    "name": "ipython",
    "version": 2
   },
   "file_extension": ".py",
   "mimetype": "text/x-python",
   "name": "python",
   "nbconvert_exporter": "python",
   "pygments_lexer": "ipython2",
   "version": "2.7.6"
  }
 },
 "nbformat": 4,
 "nbformat_minor": 5
}
