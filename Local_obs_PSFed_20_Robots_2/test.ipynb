{
 "cells": [
  {
   "cell_type": "code",
   "id": "initial_id",
   "metadata": {
    "collapsed": true,
    "ExecuteTime": {
     "end_time": "2024-12-14T06:11:49.908136Z",
     "start_time": "2024-12-14T06:11:45.358648Z"
    }
   },
   "source": [
    "import os\n",
    "import tensorflow as tf\n",
    "import numpy as np\n",
    "from tensorflow.initializers import random_uniform\n",
    "class Actor(object):\n",
    "    def __init__(self, lr, n_actions, name, input_dims, sess, fc1_dims,\n",
    "                 fc2_dims, action_bound, batch_size=64, chkpt_dir='tmp/ddpg'):\n",
    "        self.lr = lr\n",
    "        self.n_actions = n_actions\n",
    "        self.name = name\n",
    "        self.fc1_dims = fc1_dims\n",
    "        self.fc2_dims = fc2_dims\n",
    "        self.input_dims = input_dims\n",
    "        self.batch_size = batch_size\n",
    "        self.sess = sess\n",
    "        self.action_bound = action_bound\n",
    "        self.build_network()\n",
    "        self.params = tf.trainable_variables(scope=self.name)\n",
    "        self.unnormalized_actor_gradients = tf.gradients(self.mu, self.params, -self.action_gradients)\n",
    "        self.actor_gradients = list(map(lambda x: tf.div(x, self.batch_size), self.unnormalized_actor_gradients))\n",
    "        self.optimize = tf.train.AdamOptimizer(self.lr).apply_gradients(zip(self.actor_gradients, self.params))\n",
    "\n",
    "    def build_network(self):\n",
    "        with tf.variable_scope(self.name):\n",
    "            self.input = tf.placeholder(tf.float32, shape=[None, *self.input_dims], name='inputs')\n",
    "            self.action_gradients = tf.placeholder(tf.float32, shape=[None, self.n_actions], name='gradients')\n",
    "            f1 = 1. / np.sqrt(self.fc1_dims)\n",
    "            dense1 = tf.layers.dense(self.input, units=self.fc1_dims, kernel_initializer=random_uniform(-f1, f1), bias_initializer=random_uniform(-f1, f1))\n",
    "            batch1 = tf.layers.batch_normalization(dense1)\n",
    "            layer1_activation = tf.nn.tanh(batch1)\n",
    "            f2 = 1. / np.sqrt(self.fc2_dims)\n",
    "            dense2 = tf.layers.dense(layer1_activation, units=self.fc2_dims, kernel_initializer=random_uniform(-f2, f2), bias_initializer=random_uniform(-f2, f2))\n",
    "            batch2 = tf.layers.batch_normalization(dense2)\n",
    "            layer2_activation = tf.nn.tanh(batch2)\n",
    "            f3 = 1. / np.sqrt(self.fc2_dims)\n",
    "            dense3 = tf.layers.dense(layer2_activation, units=32, kernel_initializer=random_uniform(-f3, f3), bias_initializer=random_uniform(-f3, f3))\n",
    "            batch3 = tf.layers.batch_normalization(dense3)\n",
    "            layer3_activation = tf.nn.tanh(batch3)\n",
    "            mu1 = tf.layers.dense(layer3_activation, units=self.n_actions, activation='tanh', kernel_initializer=random_uniform(-f3, f3), bias_initializer=random_uniform(-f3, f3))\n",
    "            self.mu = mu1\n",
    "\n",
    "    def predict(self, inputs):\n",
    "        return self.sess.run(self.mu, feed_dict={self.input: inputs})\n",
    "\n",
    "    def train(self, inputs, gradients):\n",
    "        self.sess.run(self.optimize, feed_dict={self.input: inputs, self.action_gradients: gradients})\n",
    "class Federated_Server(object):\n",
    "    def __init__(self, name_actor, name_critic, input_dims, n_actions=7, layer1_size=32, layer2_size=32):\n",
    "        self.sess = tf.Session()\n",
    "        self.actor = Actor(1, n_actions, name_actor, input_dims, self.sess, layer1_size, layer2_size, 1)\n",
    "        self.numberOfR=20\n",
    "        self.actors_params= [self.actor.params] *self.numberOfR\n",
    "        self.robot_sents=np.zeros(self.numberOfR)\n",
    "        self.sess.run(tf.global_variables_initializer())\n",
    "\n",
    "    def federation(self):\n",
    "        for i in range(len(self.actor.params)):\n",
    "           for j in range(self.numberOfR):\n",
    "               self.actor.params[i]+=self.actors_params[j][i]*self.robot_sents[j]\n",
    "           self.actor.params[i]/=self.numberOfR\n",
    "\n",
    "        #self.actor.sess.run(self.ServerFederation)\n",
    "        return self.actor.params\n",
    "Server_robot = Federated_Server(name_actor='server_actor', name_critic='server_critic', input_dims=[148], n_actions=8,layer1_size=32, layer2_size=32)\n",
    "print(\"q\")\n",
    "for i in range(len(Server_robot.actor.params)):\n",
    "    print(Server_robot.actor.params[i])\n",
    "#print(Server_robot.actor.params)\n",
    "# Server_robot.federation()\n",
    "# print(\"2\")\n",
    "# print(Server_robot.actor.params)"
   ],
   "outputs": [
    {
     "name": "stdout",
     "output_type": "stream",
     "text": [
      "WARNING:tensorflow:From C:\\Users\\52465\\AppData\\Local\\Temp\\ipykernel_11364\\4205918670.py:49: The name tf.Session is deprecated. Please use tf.compat.v1.Session instead.\n",
      "\n",
      "WARNING:tensorflow:From C:\\Users\\52465\\AppData\\Local\\Temp\\ipykernel_11364\\4205918670.py:24: The name tf.variable_scope is deprecated. Please use tf.compat.v1.variable_scope instead.\n",
      "\n",
      "WARNING:tensorflow:From C:\\Users\\52465\\AppData\\Local\\Temp\\ipykernel_11364\\4205918670.py:25: The name tf.placeholder is deprecated. Please use tf.compat.v1.placeholder instead.\n",
      "\n",
      "WARNING:tensorflow:From C:\\Users\\52465\\AppData\\Local\\Temp\\ipykernel_11364\\4205918670.py:28: dense (from tensorflow.python.layers.core) is deprecated and will be removed in a future version.\n",
      "Instructions for updating:\n",
      "Use keras.layers.Dense instead.\n",
      "WARNING:tensorflow:From D:\\aCodeSoftware\\Anaconda3\\envs\\robotic\\lib\\site-packages\\tensorflow_core\\python\\layers\\core.py:187: Layer.apply (from tensorflow.python.keras.engine.base_layer) is deprecated and will be removed in a future version.\n",
      "Instructions for updating:\n",
      "Please use `layer.__call__` method instead.\n",
      "WARNING:tensorflow:From C:\\Users\\52465\\AppData\\Local\\Temp\\ipykernel_11364\\4205918670.py:29: batch_normalization (from tensorflow.python.layers.normalization) is deprecated and will be removed in a future version.\n",
      "Instructions for updating:\n",
      "Use keras.layers.BatchNormalization instead.  In particular, `tf.control_dependencies(tf.GraphKeys.UPDATE_OPS)` should not be used (consult the `tf.keras.layers.batch_normalization` documentation).\n",
      "WARNING:tensorflow:From C:\\Users\\52465\\AppData\\Local\\Temp\\ipykernel_11364\\4205918670.py:18: The name tf.trainable_variables is deprecated. Please use tf.compat.v1.trainable_variables instead.\n",
      "\n",
      "WARNING:tensorflow:From C:\\Users\\52465\\AppData\\Local\\Temp\\ipykernel_11364\\4205918670.py:20: div (from tensorflow.python.ops.math_ops) is deprecated and will be removed in a future version.\n",
      "Instructions for updating:\n",
      "Deprecated in favor of operator or tf.math.divide.\n",
      "WARNING:tensorflow:From C:\\Users\\52465\\AppData\\Local\\Temp\\ipykernel_11364\\4205918670.py:21: The name tf.train.AdamOptimizer is deprecated. Please use tf.compat.v1.train.AdamOptimizer instead.\n",
      "\n",
      "WARNING:tensorflow:From C:\\Users\\52465\\AppData\\Local\\Temp\\ipykernel_11364\\4205918670.py:54: The name tf.global_variables_initializer is deprecated. Please use tf.compat.v1.global_variables_initializer instead.\n",
      "\n",
      "q\n",
      "<tf.Variable 'server_actor/dense/kernel:0' shape=(148, 32) dtype=float32_ref>\n",
      "<tf.Variable 'server_actor/dense/bias:0' shape=(32,) dtype=float32_ref>\n",
      "<tf.Variable 'server_actor/batch_normalization/gamma:0' shape=(32,) dtype=float32_ref>\n",
      "<tf.Variable 'server_actor/batch_normalization/beta:0' shape=(32,) dtype=float32_ref>\n",
      "<tf.Variable 'server_actor/dense_1/kernel:0' shape=(32, 32) dtype=float32_ref>\n",
      "<tf.Variable 'server_actor/dense_1/bias:0' shape=(32,) dtype=float32_ref>\n",
      "<tf.Variable 'server_actor/batch_normalization_1/gamma:0' shape=(32,) dtype=float32_ref>\n",
      "<tf.Variable 'server_actor/batch_normalization_1/beta:0' shape=(32,) dtype=float32_ref>\n",
      "<tf.Variable 'server_actor/dense_2/kernel:0' shape=(32, 32) dtype=float32_ref>\n",
      "<tf.Variable 'server_actor/dense_2/bias:0' shape=(32,) dtype=float32_ref>\n",
      "<tf.Variable 'server_actor/batch_normalization_2/gamma:0' shape=(32,) dtype=float32_ref>\n",
      "<tf.Variable 'server_actor/batch_normalization_2/beta:0' shape=(32,) dtype=float32_ref>\n",
      "<tf.Variable 'server_actor/dense_3/kernel:0' shape=(32, 8) dtype=float32_ref>\n",
      "<tf.Variable 'server_actor/dense_3/bias:0' shape=(8,) dtype=float32_ref>\n"
     ]
    }
   ],
   "execution_count": 1
  },
  {
   "metadata": {
    "ExecuteTime": {
     "end_time": "2024-12-13T10:21:23.827923Z",
     "start_time": "2024-12-13T10:21:23.785177Z"
    }
   },
   "cell_type": "code",
   "source": [
    "import numpy as np\n",
    "numberOfRobots=5\n",
    "act_robots = np.zeros((numberOfRobots,8))\n",
    "act_robot_moves = np.zeros((numberOfRobots, 2))\n",
    "for y in range(numberOfRobots):\n",
    "    act_robots[y] = np.random.uniform(-1.0, 1.0), np.random.uniform(-1.0, 1.0), np.random.uniform(\n",
    "        -1.0, 1.0), np.random.uniform(-1.0, 1.0), np.random.uniform(-1.0,\n",
    "                                                                    1.0), np.random.uniform(\n",
    "        -1.0, 1.0), np.random.uniform(-1.0, 1.0), np.random.uniform(-1.0, 1.0)\n",
    "for x in range(numberOfRobots):\n",
    "    act0_robot_move = np.random.uniform(-1.0, 1.0), np.random.uniform(-1.0, 1.0)\n",
    "    act_robot_moves[x] = act0_robot_move\n",
    "act_robots = np.concatenate(act_robots)\n",
    "act_robot_moves = np.concatenate(act_robot_moves)\n",
    "#print(act_robots)\n",
    "print(act_robot_moves)"
   ],
   "id": "db5778f096993448",
   "outputs": [
    {
     "name": "stdout",
     "output_type": "stream",
     "text": [
      "[ 0.10072173 -0.98242935 -0.42917585 -0.06212133  0.2034406  -0.43761538\n",
      "  0.21211754 -0.27313871 -0.59773997 -0.53521827]\n"
     ]
    }
   ],
   "execution_count": 6
  }
 ],
 "metadata": {
  "kernelspec": {
   "display_name": "Python 3",
   "language": "python",
   "name": "python3"
  },
  "language_info": {
   "codemirror_mode": {
    "name": "ipython",
    "version": 2
   },
   "file_extension": ".py",
   "mimetype": "text/x-python",
   "name": "python",
   "nbconvert_exporter": "python",
   "pygments_lexer": "ipython2",
   "version": "2.7.6"
  }
 },
 "nbformat": 4,
 "nbformat_minor": 5
}
